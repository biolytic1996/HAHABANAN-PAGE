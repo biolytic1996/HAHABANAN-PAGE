{
  "nbformat": 4,
  "nbformat_minor": 0,
  "metadata": {
    "colab": {
      "name": "機器學習練習",
      "provenance": [],
      "authorship_tag": "ABX9TyNre4vwRaJMXeILQgaRRbw5",
      "include_colab_link": true
    },
    "kernelspec": {
      "name": "python3",
      "display_name": "Python 3"
    },
    "language_info": {
      "name": "python"
    }
  },
  "cells": [
    {
      "cell_type": "markdown",
      "metadata": {
        "id": "view-in-github",
        "colab_type": "text"
      },
      "source": [
        "<a href=\"https://colab.research.google.com/github/biolytic1996/HAHABANAN-PAGE/blob/master/%E6%B3%A2%E5%A3%AB%E9%A0%93%E6%88%BF%E5%83%B9%E5%88%86%E6%9E%90%E7%B7%B4%E7%BF%92.ipynb\" target=\"_parent\"><img src=\"https://colab.research.google.com/assets/colab-badge.svg\" alt=\"Open In Colab\"/></a>"
      ]
    },
    {
      "cell_type": "markdown",
      "metadata": {
        "id": "YVYefSQSxuZd"
      },
      "source": [
        "**用sklearn做波士頓房價線性回歸**"
      ]
    },
    {
      "cell_type": "markdown",
      "metadata": {
        "id": "TeSs6QLZyC-O"
      },
      "source": [
        "1. 前置練習 <br>\n",
        "  先自己創建一組線性二維數據，且自己設定y=mx+b的m與b <br>\n",
        "  再用matplotlib做直線\n"
      ]
    },
    {
      "cell_type": "code",
      "metadata": {
        "id": "hy0L9_uREnOL",
        "colab": {
          "base_uri": "https://localhost:8080/",
          "height": 283
        },
        "outputId": "40777851-8159-4d96-bc8c-0e9c3c051924"
      },
      "source": [
        ">>> import numpy as np  //引入numpy資源庫\n",
        ">>> import matplotlib.pyplot as plt //引入matplotlib資源庫\n",
        ">>> x=np.linspace(0,5,50) //  x軸在0-50之間產生50個點\n",
        ">>> y=1.5*x+0.8 // 斜率設1.5\n",
        ">>> plt.scatter(x,y)"
      ],
      "execution_count": null,
      "outputs": [
        {
          "output_type": "execute_result",
          "data": {
            "text/plain": [
              "<matplotlib.collections.PathCollection at 0x7fcb8b66b490>"
            ]
          },
          "metadata": {},
          "execution_count": 1
        },
        {
          "output_type": "display_data",
          "data": {
            "image/png": "[encoded data removed]",
            "text/plain": [
              "<Figure size 432x288 with 1 Axes>"
            ]
          },
          "metadata": {
            "needs_background": "light"
          }
        }
      ]
    }
  ]
}